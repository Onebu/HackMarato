{
 "cells": [
  {
   "cell_type": "code",
   "execution_count": 6,
   "metadata": {},
   "outputs": [],
   "source": [
    "# package management\n",
    "\n",
    "import streamlit as st\n",
    "import pandas as pd\n",
    "import cv2\n",
    "import numpy as np\n",
    "import imutils\n",
    "import matplotlib.pyplot as plt\n",
    "from matplotlib.patches import Rectangle"
   ]
  },
  {
   "cell_type": "code",
   "execution_count": 7,
   "metadata": {},
   "outputs": [],
   "source": [
    "path = 'test_image2.png'"
   ]
  },
  {
   "cell_type": "code",
   "execution_count": 38,
   "metadata": {},
   "outputs": [],
   "source": [
    "def process_PSLA(path):\n",
    "    \n",
    "\timg_org= cv2.imread(path)\n",
    "\timg = cv2.cvtColor(img_org, cv2.COLOR_BGR2GRAY)\n",
    "\t# perform edge detection, then perform a dilation + erosaion to \n",
    "\t#close gaps in between object edges\n",
    "\t# edged = cv2.Canny(img,50,100)\n",
    "\t# edged = cv2.dilate(edged, None, iteration = 1)\n",
    "\t# edged = cv2.erode(edged, None, iteration = 1)\n",
    " \n",
    "\timginv = 255-img\n",
    "\tdst = cv2.fastNlMeansDenoisingColored(img_org,None,10,10,7,21)\n",
    " \t# lower part of LVID\n",
    "\tret1,thresh1 = cv2.threshold(img,25,255,cv2.THRESH_BINARY)\n",
    "\t#implot1 = plt.imshow(255-thresh1, cmap='gray')\n",
    "\tplt.imsave('./res/lower.png', 255-thresh1, cmap = 'gray')\n",
    "\t# higher part of LVID\n",
    "\tret2,thresh2 = cv2.threshold(img,5,255,cv2.THRESH_BINARY)\n",
    "\t#implot2 = plt.imshow(255-thresh2, cmap='gray')\n",
    "\tplt.imsave('./res/higher.png', 255-thresh2, cmap = 'gray')\n",
    " \n",
    "\tret3,thresh3 = cv2.threshold(img,60,255,cv2.THRESH_BINARY)\n",
    "\t#implot3 = plt.imshow(thresh3, cmap='gray')\n",
    "\tcontours, hierarchy  = cv2.findContours(thresh3,cv2.RETR_TREE, cv2.CHAIN_APPROX_SIMPLE)            \n",
    "\tcontours = sorted(contours, key=cv2.contourArea)            \n",
    "\tmask2 = np.ones(img.shape[:2], dtype=\"uint8\") * 255\n",
    "\tfor c in contours[:-1]:\n",
    "\t\tcv2.drawContours(mask2, c, -1, 0, -1)\n",
    "\timg4 = cv2.bitwise_and(thresh3, thresh3, mask=mask2)\n",
    "\timplot = plt.imshow(img4, cmap='gray')\n",
    "        "
   ]
  },
  {
   "cell_type": "code",
   "execution_count": 39,
   "metadata": {},
   "outputs": [
    {
     "ename": "error",
     "evalue": "OpenCV(4.6.0) /Users/runner/work/opencv-python/opencv-python/opencv/modules/imgproc/src/color.simd_helpers.hpp:92: error: (-2:Unspecified error) in function 'cv::impl::(anonymous namespace)::CvtHelper<cv::impl::(anonymous namespace)::Set<3, 4, -1>, cv::impl::(anonymous namespace)::Set<1, -1, -1>, cv::impl::(anonymous namespace)::Set<0, 2, 5>, cv::impl::(anonymous namespace)::NONE>::CvtHelper(cv::InputArray, cv::OutputArray, int) [VScn = cv::impl::(anonymous namespace)::Set<3, 4, -1>, VDcn = cv::impl::(anonymous namespace)::Set<1, -1, -1>, VDepth = cv::impl::(anonymous namespace)::Set<0, 2, 5>, sizePolicy = cv::impl::(anonymous namespace)::NONE]'\n> Invalid number of channels in input image:\n>     'VScn::contains(scn)'\n> where\n>     'scn' is 1\n",
     "output_type": "error",
     "traceback": [
      "\u001b[0;31m---------------------------------------------------------------------------\u001b[0m",
      "\u001b[0;31merror\u001b[0m                                     Traceback (most recent call last)",
      "Cell \u001b[0;32mIn [39], line 1\u001b[0m\n\u001b[0;32m----> 1\u001b[0m process_PSLA(\u001b[39m'\u001b[39;49m\u001b[39mtest_image2.png\u001b[39;49m\u001b[39m'\u001b[39;49m)\n",
      "Cell \u001b[0;32mIn [38], line 24\u001b[0m, in \u001b[0;36mprocess_PSLA\u001b[0;34m(path)\u001b[0m\n\u001b[1;32m     22\u001b[0m ret3,thresh3 \u001b[39m=\u001b[39m cv2\u001b[39m.\u001b[39mthreshold(img,\u001b[39m60\u001b[39m,\u001b[39m255\u001b[39m,cv2\u001b[39m.\u001b[39mTHRESH_BINARY)\n\u001b[1;32m     23\u001b[0m \u001b[39m#implot3 = plt.imshow(thresh3, cmap='gray')\u001b[39;00m\n\u001b[0;32m---> 24\u001b[0m contours, hierarchy  \u001b[39m=\u001b[39m cv2\u001b[39m.\u001b[39mfindContours(cv2\u001b[39m.\u001b[39;49mcvtColor(thresh3, cv2\u001b[39m.\u001b[39;49mCOLOR_BGR2GRAY),cv2\u001b[39m.\u001b[39mRETR_TREE, cv2\u001b[39m.\u001b[39mCHAIN_APPROX_SIMPLE)            \n\u001b[1;32m     25\u001b[0m contours \u001b[39m=\u001b[39m \u001b[39msorted\u001b[39m(contours, key\u001b[39m=\u001b[39mcv2\u001b[39m.\u001b[39mcontourArea)            \n\u001b[1;32m     26\u001b[0m mask2 \u001b[39m=\u001b[39m np\u001b[39m.\u001b[39mones(img\u001b[39m.\u001b[39mshape[:\u001b[39m2\u001b[39m], dtype\u001b[39m=\u001b[39m\u001b[39m\"\u001b[39m\u001b[39muint8\u001b[39m\u001b[39m\"\u001b[39m) \u001b[39m*\u001b[39m \u001b[39m255\u001b[39m\n",
      "\u001b[0;31merror\u001b[0m: OpenCV(4.6.0) /Users/runner/work/opencv-python/opencv-python/opencv/modules/imgproc/src/color.simd_helpers.hpp:92: error: (-2:Unspecified error) in function 'cv::impl::(anonymous namespace)::CvtHelper<cv::impl::(anonymous namespace)::Set<3, 4, -1>, cv::impl::(anonymous namespace)::Set<1, -1, -1>, cv::impl::(anonymous namespace)::Set<0, 2, 5>, cv::impl::(anonymous namespace)::NONE>::CvtHelper(cv::InputArray, cv::OutputArray, int) [VScn = cv::impl::(anonymous namespace)::Set<3, 4, -1>, VDcn = cv::impl::(anonymous namespace)::Set<1, -1, -1>, VDepth = cv::impl::(anonymous namespace)::Set<0, 2, 5>, sizePolicy = cv::impl::(anonymous namespace)::NONE]'\n> Invalid number of channels in input image:\n>     'VScn::contains(scn)'\n> where\n>     'scn' is 1\n"
     ]
    }
   ],
   "source": [
    "process_PSLA('test_image2.png')"
   ]
  }
 ],
 "metadata": {
  "kernelspec": {
   "display_name": "Python 3",
   "language": "python",
   "name": "python3"
  },
  "language_info": {
   "codemirror_mode": {
    "name": "ipython",
    "version": 3
   },
   "file_extension": ".py",
   "mimetype": "text/x-python",
   "name": "python",
   "nbconvert_exporter": "python",
   "pygments_lexer": "ipython3",
   "version": "3.10.8"
  },
  "orig_nbformat": 4,
  "vscode": {
   "interpreter": {
    "hash": "aee8b7b246df8f9039afb4144a1f6fd8d2ca17a180786b69acc140d282b71a49"
   }
  }
 },
 "nbformat": 4,
 "nbformat_minor": 2
}
