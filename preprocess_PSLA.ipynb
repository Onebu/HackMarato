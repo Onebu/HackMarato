{
 "cells": [
  {
   "cell_type": "code",
   "execution_count": 3,
   "metadata": {},
   "outputs": [],
   "source": [
    "# package management\n",
    "\n",
    "import streamlit as st\n",
    "import pandas as pd\n",
    "import cv2\n",
    "import numpy as np\n",
    "import imutils\n",
    "import matplotlib.pyplot as plt\n",
    "from matplotlib.patches import Rectangle"
   ]
  },
  {
   "cell_type": "code",
   "execution_count": 4,
   "metadata": {},
   "outputs": [],
   "source": [
    "path = 'test_image2.png'"
   ]
  },
  {
   "cell_type": "code",
   "execution_count": 64,
   "metadata": {},
   "outputs": [],
   "source": [
    "def process_PSLA(path):\n",
    "    \n",
    "\timg_org= cv2.imread(path)\n",
    "\timg = cv2.cvtColor(img_org, cv2.COLOR_BGR2GRAY)\n",
    "\t# perform edge detection, then perform a dilation + erosaion to \n",
    "\t#close gaps in between object edges\n",
    "\t# edged = cv2.Canny(img,50,100)\n",
    "\t# edged = cv2.dilate(edged, None, iteration = 1)\n",
    "\t# edged = cv2.erode(edged, None, iteration = 1)\n",
    " \n",
    "\timginv = 255-img\n",
    "\tdst = cv2.fastNlMeansDenoisingColored(img_org,None,10,10,7,21)\n",
    " \n",
    " \t# lower part of LVID\n",
    "\tret1,thresh1 = cv2.threshold(img,25,255,cv2.THRESH_BINARY)\n",
    "\tmask_rec = np.ones(thresh1.shape[:2], dtype=\"uint8\") * 255\n",
    "\tcv2.rectangle(mask_rec, (0,0),(thresh1.shape[:2][1],250),0,-1)\n",
    "\n",
    "\tmasked = cv2.bitwise_and(thresh1,thresh1,mask= mask_rec)\n",
    "\t#print(masked)\n",
    "\t#lt.imshow(masked, cmap=\"gray\")\n",
    "\t#implot1 = plt.imshow(255-thresh1, cmap='gray')\n",
    "\tplt.imsave('./res/medium.png', masked, cmap = 'gray')\n",
    " \n",
    "\t# higher part of LVID\n",
    "\tret2,thresh2 = cv2.threshold(img,8,255,cv2.THRESH_BINARY)\n",
    "\tcontours, hierarchy  = cv2.findContours(thresh2,cv2.RETR_TREE, cv2.CHAIN_APPROX_SIMPLE)      \n",
    "\tcontours = sorted(contours, key=cv2.contourArea)\n",
    "\tcounter = 0\n",
    "\t# check for area of each contour and only save with the biggest one\n",
    "\tfor c in contours:\n",
    "\t\tarea = cv2.contourArea(c)\n",
    "\t\tif (area > 10000):\n",
    "\t\t\tcounter+=1\n",
    "\tl = [-x for x in range(1,counter+1)]\n",
    "\tcountors_req = [contours[i] for i in l]\n",
    "\tmask1 = np.ones(thresh1.shape[:2], dtype=\"uint8\") * 255\n",
    "\tcv2.fillPoly(mask1, pts = countors_req, color=(0,0,0))\n",
    "\t#implot = plt.imshow(255-mask1, cmap='gray')\n",
    "\t#implot2 = plt.imshow(255-thresh2, cmap='gray')\n",
    "\tplt.imsave('./res/higher.png', 255-mask1, cmap = 'gray')\n",
    " \n",
    "\n",
    "\t# measure for LVPW\n",
    "\tret3,thresh3 = cv2.threshold(img,60,255,cv2.THRESH_BINARY)\n",
    "\t#implot3 = plt.imshow(thresh3, cmap='gray')\n",
    "\tcontours, hierarchy  = cv2.findContours(thresh3,cv2.RETR_TREE, cv2.CHAIN_APPROX_SIMPLE)            \n",
    "\tcontours = sorted(contours, key=cv2.contourArea)            \n",
    "\tmask2 = np.ones(thresh1.shape[:2], dtype=\"uint8\") * 255\n",
    "\tcv2.drawContours(mask2, contours[-1], -1, 0, -1)\n",
    "\tcv2.fillPoly(mask2, pts =[contours[-1]], color=(0,0,0))\n",
    "\t#img4 = cv2.bitwise_and(thresh3, img, mask=mask2)\n",
    "\t#implot = plt.imshow(255-mask2, cmap='gray')\n",
    "\tplt.imsave('./res/lower.png', mask2, cmap = 'gray')\n",
    "        "
   ]
  },
  {
   "cell_type": "code",
   "execution_count": 65,
   "metadata": {},
   "outputs": [
    {
     "name": "stdout",
     "output_type": "stream",
     "text": [
      "[[  0   0   0 ...   0   0   0]\n",
      " [  0   0   0 ...   0   0   0]\n",
      " [  0   0   0 ...   0   0   0]\n",
      " ...\n",
      " [255 255 255 ... 255 255 255]\n",
      " [  0   0   0 ... 255 255 255]\n",
      " [  0   0   0 ... 255 255 255]]\n"
     ]
    },
    {
     "data": {
      "image/png": "[encoded data removed]",
      "text/plain": [
       "<Figure size 640x480 with 1 Axes>"
      ]
     },
     "metadata": {},
     "output_type": "display_data"
    }
   ],
   "source": [
    "process_PSLA('test_image2.png')"
   ]
  }
 ],
 "metadata": {
  "kernelspec": {
   "display_name": "Python 3",
   "language": "python",
   "name": "python3"
  },
  "language_info": {
   "codemirror_mode": {
    "name": "ipython",
    "version": 3
   },
   "file_extension": ".py",
   "mimetype": "text/x-python",
   "name": "python",
   "nbconvert_exporter": "python",
   "pygments_lexer": "ipython3",
   "version": "3.10.8"
  },
  "orig_nbformat": 4,
  "vscode": {
   "interpreter": {
    "hash": "aee8b7b246df8f9039afb4144a1f6fd8d2ca17a180786b69acc140d282b71a49"
   }
  }
 },
 "nbformat": 4,
 "nbformat_minor": 2
}
